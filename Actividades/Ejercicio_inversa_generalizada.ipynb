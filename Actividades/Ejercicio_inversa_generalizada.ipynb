{
  "cells": [
    {
      "cell_type": "markdown",
      "metadata": {
        "id": "KshzQyW-rkVY"
      },
      "source": [
        "## **Datos**\n",
        "\n",
        "**Nombre:** Camacho Herrera Jesús Salvador\n",
        "\n",
        "**Correo:** jesuscamacho1729@gmail.com"
      ]
    },
    {
      "cell_type": "markdown",
      "metadata": {
        "id": "kKc1P_B6vZZU"
      },
      "source": [
        "## **Ejercicio**\n",
        "\n",
        "Si $U \\sim unif(0,1)$ entonces\n",
        "\n",
        "$$ F^{-1}_{X}(U) = \\frac{1}{\\lambda}\\left[-Ln(1-U)\\right]^{\\frac{1}{\\alpha}} \\sim Weibull(\\alpha, λ)$$\n",
        "\n"
      ]
    },
    {
      "cell_type": "markdown",
      "metadata": {
        "id": "n_JmZdylxG9r"
      },
      "source": [
        "## **Solución**\n",
        "\n",
        "Primero recordemos que $X \\sim Weibull(\\alpha, λ)$ si y sólo si $F_{X}(x) = 1- e^{-(\\lambda x)^{\\alpha}}$.\n",
        "\n",
        "Teniendo en cuenta lo anterior y el hecho de que $U \\sim unif(0,1)$ veamos lo siguiente:\n",
        "\n",
        "$$\\begin{align*}\n",
        "\t\\mathbb{P}\\left(F^{-1}_{X}(U) \\leq x\\right) &= \\mathbb{P}\\left(\\frac{1}{\\lambda}\\left[-Ln(1-U)\\right]^{\\frac{1}{\\alpha}} \\leq x \\right) \\\\ &= \\mathbb{P}(\\left[-Ln(1-U)\\right]^{\\frac{1}{\\alpha}} \\leq \\lambda x) \\\\ &= \\mathbb{P}(-Ln(1-U) \\leq (\\lambda x)^{\\alpha}) \\\\ &= \\mathbb{P}(Ln(1-U) \\geq -(\\lambda x)^{\\alpha}) \\\\ &= \\mathbb{P}(1-U \\geq e^{-(\\lambda x)^{\\alpha}}) \\\\ &= \\mathbb{P}(U \\leq 1- e^{-(\\lambda x)^{\\alpha}}) \\\\ &= F_{U}\\left(1- e^{-(\\lambda x)^{\\alpha}}\\right) \\\\ &= 1- e^{-(\\lambda x)^{\\alpha}}\n",
        "\\end{align*}$$\n",
        "\n",
        "Por lo tanto,\n",
        "\n",
        "$$F^{-1}_{X}(U) \\sim Weibull(\\alpha, λ). \\quad \\blacksquare$$"
      ]
    },
    {
      "cell_type": "markdown",
      "metadata": {
        "id": "PwSurBef40wJ"
      },
      "source": [
        "## **Ejemplo (visto en clase): Distribución Weibull a partir de muestras uniformes**\n",
        "\n"
      ]
    },
    {
      "cell_type": "code",
      "execution_count": 1,
      "metadata": {
        "id": "Vg_0RSzp4428"
      },
      "outputs": [],
      "source": [
        "# Dependencias\n",
        "import numpy as np\n",
        "import matplotlib.pyplot as plt"
      ]
    },
    {
      "cell_type": "code",
      "execution_count": 2,
      "metadata": {
        "id": "B587zb-h5Pb5"
      },
      "outputs": [],
      "source": [
        "# Generamos una muestra de variables aleatorias uniformemente distribuidas\n",
        "muestra_uniformes = np.random.uniform(0, 1, 10000)"
      ]
    },
    {
      "cell_type": "code",
      "execution_count": 3,
      "metadata": {
        "id": "9tXrmjYn49Ts"
      },
      "outputs": [],
      "source": [
        "# Parámetros de la distribución Weibull\n",
        "scale = 1\n",
        "shape = 1.5"
      ]
    },
    {
      "cell_type": "code",
      "execution_count": 4,
      "metadata": {
        "id": "XkW1Cjvi5WMr"
      },
      "outputs": [],
      "source": [
        "# Transformamos las muestras uniformes a una distribución Weibull\n",
        "weibull = scale * (-np.log(1 - muestra_uniformes)) ** (shape)"
      ]
    },
    {
      "cell_type": "code",
      "execution_count": 5,
      "metadata": {
        "colab": {
          "base_uri": "https://localhost:8080/",
          "height": 472
        },
        "id": "LlH1EGTw6iFD",
        "outputId": "4370d562-0057-4ca5-e44d-a904f3dcf889"
      },
      "outputs": [
        {
          "data": {
            "image/png": "[encoded data removed]",
            "text/plain": [
              "<Figure size 432x288 with 1 Axes>"
            ]
          },
          "metadata": {
            "needs_background": "light"
          },
          "output_type": "display_data"
        }
      ],
      "source": [
        "# Creamos el histograma de las muestras Weibull\n",
        "plt.hist(weibull, bins=50, density=True, color=\"purple\", alpha=0.6, label=\"Muestras Weibull\")\n",
        "\n",
        "# Calculamos y graficamos la función de densidad de probabilidad teórica de la distribución Weibull\n",
        "x = np.linspace(0, np.max(weibull), 100)\n",
        "pdf = (shape * scale) * (x * scale) ** (shape - 1) * np.exp(-(scale * x) ** shape)\n",
        "plt.plot(x, pdf, label=\"Distribución Weibull\", color='yellow')\n",
        "\n",
        "# Añadimos etiquetas y título\n",
        "plt.xlabel(\"Valores\")\n",
        "plt.ylabel(\"Densidad\")\n",
        "plt.title(\"Distribución Weibull a partir de muestras uniformes\")\n",
        "plt.legend()\n",
        "plt.show()"
      ]
    },
    {
      "cell_type": "markdown",
      "metadata": {
        "id": "ehcA-5fv2C8V"
      },
      "source": [
        "## **Aplicaciones de la distribución Weibull**"
      ]
    },
    {
      "cell_type": "markdown",
      "metadata": {
        "id": "ADpNuVfI2HNx"
      },
      "source": [
        "1. **Análisis de confiabilidad y vida útil de productos:**\n",
        "\n",
        "En ingeniería y manufactura, la distribución Weibull se utiliza para modelar el tiempo hasta el fallo de productos y componentes. Es especialmente útil en la predicción de la vida útil y la estimación de la tasa de fallos, ayudando a las empresas a mejorar la confiabilidad de sus productos.\n",
        "\n",
        "2. **Estudios de supervivencia en medicina:**\n",
        "\n",
        "En biomedicina y estudios clínicos, la distribución Weibull se aplica para analizar el tiempo hasta la ocurrencia de un evento, como la muerte o la recurrencia de una enfermedad. Este tipo de análisis es crucial para evaluar la efectividad de tratamientos médicos y realizar pronósticos sobre la supervivencia de los pacientes.\n",
        "\n",
        "3. **Modelado de fenómenos naturales:**\n",
        "\n",
        "En meteorología y climatología, la distribución Weibull se utiliza para modelar la velocidad del viento. Esto es esencial para el diseño de aerogeneradores y la evaluación del potencial de energía eólica en diferentes regiones.\n",
        "\n",
        "4. **Análisis de riesgos y seguros:**\n",
        "\n",
        "En la industria de seguros, la distribución Weibull se emplea para modelar el tiempo hasta la ocurrencia de siniestros o reclamaciones. Esto ayuda a las compañías de seguros a establecer primas y reservas adecuadas, así como a gestionar el riesgo de manera efectiva.\n",
        "\n",
        "5. **Economía y finanzas:**\n",
        "\n",
        "En finanzas, la distribución Weibull se puede utilizar para modelar la distribución de tiempos entre transacciones en los mercados financieros o para analizar la duración de eventos económicos. También puede aplicarse en la evaluación de riesgos financieros y en la modelación de fenómenos extremos, como las caídas bruscas del mercado."
      ]
    }
  ],
  "metadata": {
    "colab": {
      "provenance": [],
      "toc_visible": true
    },
    "kernelspec": {
      "display_name": "Python 3",
      "name": "python3"
    },
    "language_info": {
      "codemirror_mode": {
        "name": "ipython",
        "version": 3
      },
      "file_extension": ".py",
      "mimetype": "text/x-python",
      "name": "python",
      "nbconvert_exporter": "python",
      "pygments_lexer": "ipython3",
      "version": "3.10.2"
    }
  },
  "nbformat": 4,
  "nbformat_minor": 0
}
