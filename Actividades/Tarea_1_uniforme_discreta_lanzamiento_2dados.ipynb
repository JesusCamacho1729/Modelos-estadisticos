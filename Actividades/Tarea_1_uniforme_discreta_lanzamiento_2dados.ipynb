{
 "cells": [
  {
   "cell_type": "markdown",
   "metadata": {},
   "source": [
    "## Datos\n",
    "\n",
    "**Nombre:** Camacho Herrera Jesús Salvador\n",
    "\n",
    "**Correo electrónico:** jesuscamacho1729@gmail.com"
   ]
  },
  {
   "cell_type": "markdown",
   "metadata": {},
   "source": [
    "## Tarea \n",
    "\n",
    "**Lanzamiento de 2 dados**\n",
    "\n",
    "Se lanzan dos dados justos:\n",
    "\n",
    "- $\\Omega = \\{1,2,3,4,5,6\\}\\times \\{1,2,3,4,5,6 \\}$.\n",
    "- $\\mathcal{F}=p(\\Omega)$.\n",
    "- Para $\\omega=(i,j)$ donde $i, j=1,\\dots, 6$\n",
    "$$\\mathbb{P}(\\{\\omega\\})=\\frac{1}{36}.$$\n",
    "\n",
    "**Ejercicios:**\n",
    "\n",
    "1.- Documenta tu colab.\n",
    "\n",
    "2.- Calcula la ley de las siguientes variables aleatorias:\n",
    "\n",
    "- La diferencia de las caras sea mayor que $1$.\n",
    "\n",
    "- La suma de las caras sea par.\n",
    "\n",
    "3.- Verifica, en cada caso, que $$\\sum_{k\\in R_{X}}\\mathbb{P}(X=x)=1.$$\n",
    "\n",
    "4.- Sube tu notebook a tu GitHub.\n"
   ]
  },
  {
   "cell_type": "markdown",
   "metadata": {},
   "source": [
    "## Solución"
   ]
  },
  {
   "cell_type": "markdown",
   "metadata": {},
   "source": [
    "### Dependencias"
   ]
  },
  {
   "cell_type": "code",
   "execution_count": 1,
   "metadata": {},
   "outputs": [],
   "source": [
    "# Importamos las librerías que vamos a usar\n",
    "import pandas as pd                 # Para manejar dataframes\n",
    "from itertools import product       # Para hacer el producto cartesiano\n",
    "from fractions import Fraction      # Para manejar fracciones\n",
    "from collections import defaultdict # Para manejar diccionarios con valores por defecto"
   ]
  },
  {
   "cell_type": "markdown",
   "metadata": {},
   "source": [
    "### Función de probabilidad y espacio muestral"
   ]
  },
  {
   "cell_type": "code",
   "execution_count": 2,
   "metadata": {},
   "outputs": [
    {
     "name": "stdout",
     "output_type": "stream",
     "text": [
      "Omega = {(3, 4), (4, 3), (3, 1), (5, 4), (4, 6), (5, 1), (2, 2), (1, 6), (2, 5), (1, 3), (6, 2), (6, 5), (4, 2), (4, 5), (3, 3), (5, 6), (3, 6), (5, 3), (2, 4), (1, 2), (2, 1), (1, 5), (6, 1), (6, 4), (3, 2), (4, 1), (3, 5), (5, 2), (4, 4), (5, 5), (1, 1), (1, 4), (2, 3), (2, 6), (6, 6), (6, 3)}\n"
     ]
    }
   ],
   "source": [
    "# Para ambos problemas, vamos a usar la siguiente función que sirve para\n",
    "# calcular la probabilidad de que un evento ocurra, dado un espacio muestral\n",
    "\n",
    "def P(A: set, Omega: set): # A es el evento, Omega es el espacio muestral\n",
    "  P = Fraction(len(A), len(Omega) )\n",
    "  return P\n",
    "\n",
    "# Para ambos problemas tenemos el mismo espacio muestral, y es el siguiente:\n",
    "\n",
    "# Definimos los posibles resultados de un dado\n",
    "L = [i for i in range(1,7)] \n",
    "# Los resultados posibles de lanzar dos dados\n",
    "Omega = set(product(L, repeat =2 )) \n",
    "# Mostremos el espacio muestral\n",
    "print(f\"Omega = {Omega}\")"
   ]
  },
  {
   "cell_type": "markdown",
   "metadata": {},
   "source": [
    "### Ejercicio 2.1 \n",
    "\n",
    "Sea $S_{1}$ la variable aleatoria representa la diferencia entre las caras de dos dados.\n",
    "\n",
    "$$S_{1}:\\Omega \\to R_{S_{1}}=\\{0, 1, 2, 3, 4, 5\\}$$\n",
    "\n",
    "Para entender a la ley de la variable aleatoria, basta con entender a los siguientes datos:\n",
    "$$\\{(k, \\mathbb{P}(S_{1}=k)) \\}_{k\\in R_{S_{1}}}.$$"
   ]
  },
  {
   "cell_type": "code",
   "execution_count": 3,
   "metadata": {},
   "outputs": [],
   "source": [
    "# Calculamos la diferencia absoluta entre las caras de los dados\n",
    "S1 = {(i,j):abs(i-j) for i,j in Omega}"
   ]
  },
  {
   "cell_type": "code",
   "execution_count": 4,
   "metadata": {},
   "outputs": [],
   "source": [
    "# Creamos un diccionario para almacenar los conjuntos de pares con la misma diferencia\n",
    "dS1 = defaultdict(set)\n",
    "for l, v in S1.items():\n",
    "  dS1[v].add(l)"
   ]
  },
  {
   "cell_type": "code",
   "execution_count": 5,
   "metadata": {},
   "outputs": [
    {
     "data": {
      "text/plain": [
       "defaultdict(set,\n",
       "            {1: {(1, 2),\n",
       "              (2, 1),\n",
       "              (2, 3),\n",
       "              (3, 2),\n",
       "              (3, 4),\n",
       "              (4, 3),\n",
       "              (4, 5),\n",
       "              (5, 4),\n",
       "              (5, 6),\n",
       "              (6, 5)},\n",
       "             2: {(1, 3),\n",
       "              (2, 4),\n",
       "              (3, 1),\n",
       "              (3, 5),\n",
       "              (4, 2),\n",
       "              (4, 6),\n",
       "              (5, 3),\n",
       "              (6, 4)},\n",
       "             4: {(1, 5), (2, 6), (5, 1), (6, 2)},\n",
       "             0: {(1, 1), (2, 2), (3, 3), (4, 4), (5, 5), (6, 6)},\n",
       "             5: {(1, 6), (6, 1)},\n",
       "             3: {(1, 4), (2, 5), (3, 6), (4, 1), (5, 2), (6, 3)}})"
      ]
     },
     "execution_count": 5,
     "metadata": {},
     "output_type": "execute_result"
    }
   ],
   "source": [
    "# Mostremos los conjuntos de pares con la misma diferencia\n",
    "dS1"
   ]
  },
  {
   "cell_type": "code",
   "execution_count": 6,
   "metadata": {},
   "outputs": [
    {
     "data": {
      "text/plain": [
       "0     1/6\n",
       "1    5/18\n",
       "2     2/9\n",
       "3     1/6\n",
       "4     1/9\n",
       "5    1/18\n",
       "dtype: object"
      ]
     },
     "execution_count": 6,
     "metadata": {},
     "output_type": "execute_result"
    }
   ],
   "source": [
    "# Calculamos la ley de probabilidad para S1, es decir, la probabilidad de que la diferencia sea k\n",
    "# usando la función P que definimos al principio. Usamos un diccionario por comprensión donde\n",
    "# la llave es el valor de la diferencia y el valor es la probabilidad\n",
    "leyS1 = {k : P(A,Omega) for k , A in dS1.items() }\n",
    "\n",
    "# Mostramos la ley de probabilidad de S1 mediante una serie de pandas\n",
    "# Los índices son los valores de la diferencia y los valores son las probabilidades\n",
    "leyS1 = pd.Series(leyS1)\n",
    "leyS1 = leyS1.sort_index()\n",
    "leyS1"
   ]
  },
  {
   "cell_type": "code",
   "execution_count": 7,
   "metadata": {},
   "outputs": [
    {
     "name": "stdout",
     "output_type": "stream",
     "text": [
      "P(S1 > 1) = 5/9\n"
     ]
    }
   ],
   "source": [
    "# Calculamos la probabilidad de que la diferencia de las caras de los dos dados sea mayor a 1\n",
    "P_S1 = 0\n",
    "for valor_S1 in leyS1.index: # Recorremos los valores de la diferencia\n",
    "  if valor_S1 > 1:\n",
    "    P_S1 += leyS1[valor_S1]\n",
    "print(f'P(S1 > 1) = {P_S1}')"
   ]
  },
  {
   "cell_type": "code",
   "execution_count": 8,
   "metadata": {},
   "outputs": [
    {
     "data": {
      "text/plain": [
       "Fraction(1, 1)"
      ]
     },
     "execution_count": 8,
     "metadata": {},
     "output_type": "execute_result"
    }
   ],
   "source": [
    "# Verificamos que la suma de las probabilidades de S1 es 1\n",
    "leyS1.sum()"
   ]
  },
  {
   "cell_type": "markdown",
   "metadata": {},
   "source": [
    "### Ejercicio 2.2\n",
    "\n",
    "Sea $S_{2}$ es la variable aleatoria que cuenta la suma de las caras de los dados.\n",
    "\n",
    "$$S_{2}:\\Omega \\to R_{S_{2}}=\\{2, 3, 4, 5, 6, 7, 8, 9, 10, 11, 12 \\}$$\n",
    "\n",
    "Para entender a la ley de la variable aleatoria, basta con entender a los siguientes datos:\n",
    "$$\\{(k, \\mathbb{P}(S_{2}=k)) \\}_{k\\in R_{S_{2}}}.$$"
   ]
  },
  {
   "cell_type": "code",
   "execution_count": 9,
   "metadata": {},
   "outputs": [],
   "source": [
    "# Calculamos la suma de las caras de los dados\n",
    "S2 = {(i,j):i+j for i,j in Omega}"
   ]
  },
  {
   "cell_type": "code",
   "execution_count": 10,
   "metadata": {},
   "outputs": [],
   "source": [
    "# Creamos un diccionario para almacenar los conjuntos de pares con la misma suma\n",
    "dS2 = defaultdict(set)\n",
    "for l, v in S2.items():\n",
    "  dS2[v].add(l)"
   ]
  },
  {
   "cell_type": "code",
   "execution_count": 11,
   "metadata": {},
   "outputs": [
    {
     "data": {
      "text/plain": [
       "defaultdict(set,\n",
       "            {7: {(1, 6), (2, 5), (3, 4), (4, 3), (5, 2), (6, 1)},\n",
       "             4: {(1, 3), (2, 2), (3, 1)},\n",
       "             9: {(3, 6), (4, 5), (5, 4), (6, 3)},\n",
       "             10: {(4, 6), (5, 5), (6, 4)},\n",
       "             6: {(1, 5), (2, 4), (3, 3), (4, 2), (5, 1)},\n",
       "             8: {(2, 6), (3, 5), (4, 4), (5, 3), (6, 2)},\n",
       "             11: {(5, 6), (6, 5)},\n",
       "             3: {(1, 2), (2, 1)},\n",
       "             5: {(1, 4), (2, 3), (3, 2), (4, 1)},\n",
       "             2: {(1, 1)},\n",
       "             12: {(6, 6)}})"
      ]
     },
     "execution_count": 11,
     "metadata": {},
     "output_type": "execute_result"
    }
   ],
   "source": [
    "# Mostramos el diccionario dS2 que contiene los conjuntos de pares con la misma suma\n",
    "dS2"
   ]
  },
  {
   "cell_type": "code",
   "execution_count": 12,
   "metadata": {},
   "outputs": [
    {
     "data": {
      "text/plain": [
       "2     1/36\n",
       "3     1/18\n",
       "4     1/12\n",
       "5      1/9\n",
       "6     5/36\n",
       "7      1/6\n",
       "8     5/36\n",
       "9      1/9\n",
       "10    1/12\n",
       "11    1/18\n",
       "12    1/36\n",
       "dtype: object"
      ]
     },
     "execution_count": 12,
     "metadata": {},
     "output_type": "execute_result"
    }
   ],
   "source": [
    "# Calculamos la ley de probabilidad para S2, para eso usamos la función P que definimos al principio.\n",
    "# Usamos un diccionario por comprensión donde la llave es el valor de la suma \n",
    "# y el valor es la probabilidad\n",
    "leyS2 = {k : P(A,Omega) for k , A in dS2.items() }\n",
    "leyS2 = pd.Series(leyS2)\n",
    "leyS2 = leyS2.sort_index()\n",
    "\n",
    "# Mostramos la ley de probabilidad de S2 mediante una serie de pandas\n",
    "# Los índices son los valores de la suma y los valores son las probabilidades\n",
    "leyS2"
   ]
  },
  {
   "cell_type": "code",
   "execution_count": 13,
   "metadata": {},
   "outputs": [
    {
     "name": "stdout",
     "output_type": "stream",
     "text": [
      "P(S2 es par) = 1/2\n"
     ]
    }
   ],
   "source": [
    "# Calculamos la probabilidad de que la suma de las caras de los dos dados sea par\n",
    "P_S2 = 0\n",
    "for i in leyS2.index: # Recorremos los índices de la serie leyS2\n",
    "    if i%2==0:\n",
    "        P_S2 += leyS2[i]\n",
    "print(f'P(S2 es par) = {P_S2}')"
   ]
  },
  {
   "cell_type": "code",
   "execution_count": 14,
   "metadata": {},
   "outputs": [
    {
     "data": {
      "text/plain": [
       "Fraction(1, 1)"
      ]
     },
     "execution_count": 14,
     "metadata": {},
     "output_type": "execute_result"
    }
   ],
   "source": [
    "# Verificamos que la suma de las probabilidades de S2 es 1\n",
    "leyS2.sum()"
   ]
  }
 ],
 "metadata": {
  "kernelspec": {
   "display_name": "Python 3",
   "language": "python",
   "name": "python3"
  },
  "language_info": {
   "codemirror_mode": {
    "name": "ipython",
    "version": 3
   },
   "file_extension": ".py",
   "mimetype": "text/x-python",
   "name": "python",
   "nbconvert_exporter": "python",
   "pygments_lexer": "ipython3",
   "version": "3.10.2"
  }
 },
 "nbformat": 4,
 "nbformat_minor": 2
}
