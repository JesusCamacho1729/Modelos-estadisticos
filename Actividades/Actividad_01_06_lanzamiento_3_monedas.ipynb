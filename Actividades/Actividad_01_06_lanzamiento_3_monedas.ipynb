{
  "cells": [
    {
      "cell_type": "markdown",
      "metadata": {
        "id": "MOgVGyRCLSWw"
      },
      "source": [
        "## **Equipo 7**\n",
        "\n",
        "**Integrantes**\n",
        "* Camacho Herrera Jesús Salvador\n",
        "* Flores Solis Eduardo Elías\n",
        "* Garcia Robles Viviana\n",
        "* Mendoza López Luis Ángel\n",
        "\n",
        "\n",
        "\n",
        "\n"
      ]
    },
    {
      "cell_type": "markdown",
      "metadata": {
        "id": "34lbhDecL3jY"
      },
      "source": [
        "## **Actividad 01/06/2024**\n",
        "### **Lanzamiento de 3 monedas**"
      ]
    },
    {
      "cell_type": "markdown",
      "metadata": {
        "id": "-3b1zaMpMAXs"
      },
      "source": [
        "Se tiene el siguiente experimento aleatorio. Se lanzan, de manera independiente, 3 monedas.\n",
        "\n",
        "* **Espacio Muestral**\n",
        "\n",
        "$$\\Omega= \\left\\{ A,S \\right\\}\\times \\left\\{ A,S \\right\\} \\times \\left\\{ A,S \\right\\}=\\left\\{ A,S \\right\\}^3$$\n",
        "\n",
        "$$\\text{card}(\\Omega)=2^3=8$$"
      ]
    },
    {
      "cell_type": "markdown",
      "metadata": {},
      "source": [
        "## **Dependencias**"
      ]
    },
    {
      "cell_type": "code",
      "execution_count": 1,
      "metadata": {},
      "outputs": [],
      "source": [
        "from itertools import product  # Para calcular el producto cartesiano.\n",
        "from fractions import Fraction # Permite trabajar con números racionales de manera precisa."
      ]
    },
    {
      "cell_type": "code",
      "execution_count": 2,
      "metadata": {
        "colab": {
          "base_uri": "https://localhost:8080/"
        },
        "id": "ia9R0G7HLCFQ",
        "outputId": "57f3022b-621e-4312-9c2c-371cba5b2d89"
      },
      "outputs": [
        {
          "data": {
            "text/plain": [
              "{('A', 'A', 'A'),\n",
              " ('A', 'A', 'S'),\n",
              " ('A', 'S', 'A'),\n",
              " ('A', 'S', 'S'),\n",
              " ('S', 'A', 'A'),\n",
              " ('S', 'A', 'S'),\n",
              " ('S', 'S', 'A'),\n",
              " ('S', 'S', 'S')}"
            ]
          },
          "execution_count": 2,
          "metadata": {},
          "output_type": "execute_result"
        }
      ],
      "source": [
        "# Espacio muestral del experimento de lanzar 3 monedas\n",
        "Omega = set(product({\"A\",\"S\"},repeat = 3))\n",
        "Omega"
      ]
    },
    {
      "cell_type": "markdown",
      "metadata": {
        "id": "wcRV7te2Md_U"
      },
      "source": [
        "**Función que calcula la prob. de un evento dentro de un esp. muestral en el contexto clásico**"
      ]
    },
    {
      "cell_type": "code",
      "execution_count": 3,
      "metadata": {
        "id": "miP3oyQFMi0S"
      },
      "outputs": [],
      "source": [
        "def P(a,Omega):\n",
        "  p = Fraction(len(a)/len(Omega))\n",
        "  return  p"
      ]
    },
    {
      "cell_type": "markdown",
      "metadata": {},
      "source": [
        "## **Algunos eventos**"
      ]
    },
    {
      "cell_type": "markdown",
      "metadata": {},
      "source": [
        "#### A: Todas las caras sean águilas."
      ]
    },
    {
      "cell_type": "code",
      "execution_count": 4,
      "metadata": {
        "colab": {
          "base_uri": "https://localhost:8080/"
        },
        "id": "fwbQp6tXMjWV",
        "outputId": "fe7a3faa-f341-48cb-aaca-c694359c1f7f"
      },
      "outputs": [
        {
          "name": "stdout",
          "output_type": "stream",
          "text": [
            "Mostrando nuestro evento A:   {('A', 'A', 'A')}\n",
            "P(A) = 1/8\n"
          ]
        }
      ],
      "source": [
        "A = {om for om in Omega if om.count(\"A\") == 3}\n",
        "print(\"Mostrando nuestro evento A:  \",A)\n",
        "print(\"P(A) =\",P(A,Omega))\n"
      ]
    },
    {
      "cell_type": "markdown",
      "metadata": {},
      "source": [
        "#### S: Todas las caras sean soles."
      ]
    },
    {
      "cell_type": "code",
      "execution_count": 5,
      "metadata": {},
      "outputs": [
        {
          "name": "stdout",
          "output_type": "stream",
          "text": [
            "Mostrando nuestro evento S:   {('S', 'S', 'S')}\n",
            "P(S) = 1/8\n"
          ]
        }
      ],
      "source": [
        "S = {om for om in Omega if om.count(\"S\") == 3}\n",
        "print(\"Mostrando nuestro evento S:  \",S)\n",
        "print(\"P(S) =\",P(S,Omega))"
      ]
    },
    {
      "cell_type": "markdown",
      "metadata": {
        "id": "LjMjouPVNLY2"
      },
      "source": [
        "#### E: Todas las caras sean soles."
      ]
    },
    {
      "cell_type": "code",
      "execution_count": 6,
      "metadata": {
        "colab": {
          "base_uri": "https://localhost:8080/"
        },
        "id": "AUfjK0mvNOO9",
        "outputId": "f11026f0-6bdc-48ca-c684-539b8a4a3eaf"
      },
      "outputs": [
        {
          "name": "stdout",
          "output_type": "stream",
          "text": [
            "Mostrando nuestro evento E:   {('A', 'A', 'S'), ('S', 'S', 'A'), ('S', 'S', 'S'), ('A', 'S', 'A'), ('A', 'S', 'S'), ('S', 'A', 'A'), ('S', 'A', 'S')}\n",
            "P(E) = 7/8\n"
          ]
        }
      ],
      "source": [
        "E = {om for om in Omega if om.count(\"S\") >= 1}\n",
        "print(\"Mostrando nuestro evento E:  \",E)\n",
        "print(\"P(E) =\",P(E,Omega))"
      ]
    },
    {
      "cell_type": "markdown",
      "metadata": {},
      "source": [
        "#### F: Que exactamente una cara sea sol o águila"
      ]
    },
    {
      "cell_type": "code",
      "execution_count": 7,
      "metadata": {
        "colab": {
          "base_uri": "https://localhost:8080/"
        },
        "id": "kzGOIxIZNIOl",
        "outputId": "5a93d933-ed79-4f5a-f1f2-4138191060a1"
      },
      "outputs": [
        {
          "name": "stdout",
          "output_type": "stream",
          "text": [
            "Mostrando nuestro evento F:   {('A', 'A', 'S'), ('S', 'S', 'A'), ('A', 'S', 'A'), ('A', 'S', 'S'), ('S', 'A', 'A'), ('S', 'A', 'S')}\n",
            "P(F) = 3/4\n"
          ]
        }
      ],
      "source": [
        "#Probabilidad del evento F\n",
        "F = {om for om in Omega if om.count(\"A\") == 1 or om.count(\"S\") == 1}\n",
        "print(\"Mostrando nuestro evento F:  \",F)\n",
        "print(\"P(F) =\",P(F,Omega))"
      ]
    },
    {
      "cell_type": "markdown",
      "metadata": {},
      "source": [
        "#### G: Que salgan 2 águilas y 1 sol"
      ]
    },
    {
      "cell_type": "code",
      "execution_count": 8,
      "metadata": {},
      "outputs": [
        {
          "name": "stdout",
          "output_type": "stream",
          "text": [
            "Mostrando nuestro evento G:   {('A', 'S', 'A'), ('A', 'A', 'S'), ('S', 'A', 'A')}\n",
            "P(G) = 3/8\n"
          ]
        }
      ],
      "source": [
        "G = {om for om in Omega if om.count(\"A\") == 2 and om.count(\"S\") == 1}\n",
        "print(\"Mostrando nuestro evento G:  \",G)\n",
        "print(\"P(G) =\",P(G,Omega))"
      ]
    },
    {
      "cell_type": "markdown",
      "metadata": {},
      "source": [
        "#### H: Que no salga ni 1 sol ni 1 águila"
      ]
    },
    {
      "cell_type": "code",
      "execution_count": 9,
      "metadata": {},
      "outputs": [
        {
          "name": "stdout",
          "output_type": "stream",
          "text": [
            "Mostrando nuestro evento H:   set()\n",
            "P(H) = 0\n"
          ]
        }
      ],
      "source": [
        "H = {om for om in Omega if om.count(\"A\") == 0 and om.count(\"S\") == 0}\n",
        "print(\"Mostrando nuestro evento H:  \",H)\n",
        "print(\"P(H) =\",P(H,Omega))"
      ]
    }
  ],
  "metadata": {
    "colab": {
      "provenance": []
    },
    "kernelspec": {
      "display_name": "Python 3",
      "name": "python3"
    },
    "language_info": {
      "codemirror_mode": {
        "name": "ipython",
        "version": 3
      },
      "file_extension": ".py",
      "mimetype": "text/x-python",
      "name": "python",
      "nbconvert_exporter": "python",
      "pygments_lexer": "ipython3",
      "version": "3.10.2"
    }
  },
  "nbformat": 4,
  "nbformat_minor": 0
}
