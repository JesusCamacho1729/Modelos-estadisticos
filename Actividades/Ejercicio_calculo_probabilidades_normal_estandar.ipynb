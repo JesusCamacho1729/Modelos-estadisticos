{
  "nbformat": 4,
  "nbformat_minor": 0,
  "metadata": {
    "colab": {
      "provenance": [],
      "toc_visible": true
    },
    "kernelspec": {
      "name": "python3",
      "display_name": "Python 3"
    },
    "language_info": {
      "name": "python"
    }
  },
  "cells": [
    {
      "cell_type": "markdown",
      "source": [
        "## **Datos**"
      ],
      "metadata": {
        "id": "fZ0vHsTS3eDv"
      }
    },
    {
      "cell_type": "markdown",
      "source": [
        "**Nombre:** Camacho Herrera Jesús Salvador\n",
        "\n",
        "**Correo:** jesuscamacho1729@gmail.com"
      ],
      "metadata": {
        "id": "lu-KwNrl3RYv"
      }
    },
    {
      "cell_type": "markdown",
      "source": [
        "## **Dependencias**"
      ],
      "metadata": {
        "id": "22I6-k2h06lY"
      }
    },
    {
      "cell_type": "code",
      "execution_count": 10,
      "metadata": {
        "id": "xfX7hjk00e4_"
      },
      "outputs": [],
      "source": [
        "from scipy.stats import norm # Importa la función de la distribución normal estándar"
      ]
    },
    {
      "cell_type": "markdown",
      "source": [
        "**Sintaxis:**\n",
        "\n",
        "<div align=\"center\">\n",
        "\n",
        "$\\mathbb{P}(Z \\leq z)$ = `norm.cdf(z)`\n",
        "\n",
        "</div>\n"
      ],
      "metadata": {
        "id": "GyOcg0BK4Os-"
      }
    },
    {
      "cell_type": "markdown",
      "source": [
        "## **Ejercicio.**\n",
        "\n",
        "Si $Z\\sim N(0,1)$ calcular las siguientes probabilidades:\n",
        "\n",
        "**a)** $\\mathbb{P}(0<Z<0.43)$\n",
        "\n",
        "**b)** $\\mathbb{P}(-0.16<Z<0.16)$\n",
        "\n",
        "**c)** $\\mathbb{P}(Z<-1.94)$\n",
        "\n",
        "**d)** $\\mathbb{P}(Z>-0.07)$"
      ],
      "metadata": {
        "id": "pA_cNEtD1Bwt"
      }
    },
    {
      "cell_type": "markdown",
      "source": [
        "## **Solución.**"
      ],
      "metadata": {
        "id": "gt8yL4u81c9g"
      }
    },
    {
      "cell_type": "markdown",
      "source": [
        "### $\\mathbb{P}(0<Z<0.43)$"
      ],
      "metadata": {
        "id": "JqNH7S642x7I"
      }
    },
    {
      "cell_type": "code",
      "source": [
        "prob1 = norm.cdf(0.43) - norm.cdf(0)"
      ],
      "metadata": {
        "id": "xzge2sR41DDJ"
      },
      "execution_count": 11,
      "outputs": []
    },
    {
      "cell_type": "markdown",
      "source": [
        "### $\\mathbb{P}(-0.16<Z<0.16)$"
      ],
      "metadata": {
        "id": "pXAazo4s23a5"
      }
    },
    {
      "cell_type": "code",
      "source": [
        "prob2 = norm.cdf(0.16) - norm.cdf(-0.16)"
      ],
      "metadata": {
        "id": "eN_3iY-b2EZe"
      },
      "execution_count": 12,
      "outputs": []
    },
    {
      "cell_type": "markdown",
      "source": [
        "### $\\mathbb{P}(Z<-1.94)$"
      ],
      "metadata": {
        "id": "qwO6QPNH26s5"
      }
    },
    {
      "cell_type": "code",
      "source": [
        "prob3 = norm.cdf(-1.94)"
      ],
      "metadata": {
        "id": "ad6EKPh72HY0"
      },
      "execution_count": 13,
      "outputs": []
    },
    {
      "cell_type": "markdown",
      "source": [
        "### $\\mathbb{P}(Z>-0.07)$"
      ],
      "metadata": {
        "id": "q2gSpwq029wR"
      }
    },
    {
      "cell_type": "code",
      "source": [
        "prob4 = 1 - norm.cdf(-0.07)"
      ],
      "metadata": {
        "id": "sYLNinIH2QY2"
      },
      "execution_count": 14,
      "outputs": []
    },
    {
      "cell_type": "markdown",
      "source": [
        "### **Resumen**"
      ],
      "metadata": {
        "id": "wd0BjzMR3Lnv"
      }
    },
    {
      "cell_type": "code",
      "source": [
        "print(f\"a) {prob1:.4f}\")\n",
        "print(f\"b) {prob2:.4f}\")\n",
        "print(f\"c) {prob3:.4f}\")\n",
        "print(f\"d) {prob4:.4f}\")"
      ],
      "metadata": {
        "colab": {
          "base_uri": "https://localhost:8080/"
        },
        "id": "_-HW8EHA3CCH",
        "outputId": "795e23b8-d885-4554-9770-e86e9cb8fa5a"
      },
      "execution_count": 15,
      "outputs": [
        {
          "output_type": "stream",
          "name": "stdout",
          "text": [
            "a) 0.1664\n",
            "b) 0.1271\n",
            "c) 0.0262\n",
            "d) 0.5279\n"
          ]
        }
      ]
    }
  ]
}